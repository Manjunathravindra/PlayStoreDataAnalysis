{
  "nbformat": 4,
  "nbformat_minor": 0,
  "metadata": {
    "colab": {
      "provenance": []
    },
    "kernelspec": {
      "name": "python3",
      "display_name": "Python 3"
    },
    "language_info": {
      "name": "python"
    }
  },
  "cells": [
    {
      "cell_type": "markdown",
      "source": [
        "End to End pyspark project\n",
        "\n",
        "-> Google Playstore data\n",
        "\n",
        "AGENDA:\n",
        "we have google playstore dataset containing information of different apps installed rating and version and other details and we are going to do analysis based on the data we have\n",
        "\n",
        "1. Find out top 10 reviews given to the apps\n",
        "2. Top 10 installs apps and distribution of type [free/paid]\n",
        "3. Category wise distribution of installed apps\n",
        "4. Top free rating apps\n"
      ],
      "metadata": {
        "id": "AJa6xuV6A8Yz"
      }
    },
    {
      "cell_type": "code",
      "execution_count": 1,
      "metadata": {
        "colab": {
          "base_uri": "https://localhost:8080/"
        },
        "id": "FxiXMvh5AsJY",
        "outputId": "9cb5850f-5dc8-462a-9c45-aafed7e06d81"
      },
      "outputs": [
        {
          "output_type": "stream",
          "name": "stdout",
          "text": [
            "Collecting pyspark\n",
            "  Downloading pyspark-3.5.1.tar.gz (317.0 MB)\n",
            "\u001b[2K     \u001b[90m━━━━━━━━━━━━━━━━━━━━━━━━━━━━━━━━━━━━━━━━\u001b[0m \u001b[32m317.0/317.0 MB\u001b[0m \u001b[31m2.3 MB/s\u001b[0m eta \u001b[36m0:00:00\u001b[0m\n",
            "\u001b[?25h  Preparing metadata (setup.py) ... \u001b[?25l\u001b[?25hdone\n",
            "Requirement already satisfied: py4j==0.10.9.7 in /usr/local/lib/python3.10/dist-packages (from pyspark) (0.10.9.7)\n",
            "Building wheels for collected packages: pyspark\n",
            "  Building wheel for pyspark (setup.py) ... \u001b[?25l\u001b[?25hdone\n",
            "  Created wheel for pyspark: filename=pyspark-3.5.1-py2.py3-none-any.whl size=317488491 sha256=5f9c9b1a05272959df240ea033028351414a0427b8e348ceb302d7110c30fa51\n",
            "  Stored in directory: /root/.cache/pip/wheels/80/1d/60/2c256ed38dddce2fdd93be545214a63e02fbd8d74fb0b7f3a6\n",
            "Successfully built pyspark\n",
            "Installing collected packages: pyspark\n",
            "Successfully installed pyspark-3.5.1\n"
          ]
        }
      ],
      "source": [
        "!pip install pyspark"
      ]
    },
    {
      "cell_type": "code",
      "source": [
        "import pyspark\n",
        "from pyspark.sql import SparkSession\n",
        "from pyspark.sql.types import StructType, StructField,StringType,IntegerType\n",
        "from pyspark.sql.functions import *"
      ],
      "metadata": {
        "id": "5TqVMQ-TB5RS"
      },
      "execution_count": 21,
      "outputs": []
    },
    {
      "cell_type": "markdown",
      "source": [
        "Create DatatFrame"
      ],
      "metadata": {
        "id": "JTVgSiuKCt3q"
      }
    },
    {
      "cell_type": "code",
      "source": [
        "spark = SparkSession.builder.appName(\"ReadCSV\").getOrCreate()"
      ],
      "metadata": {
        "id": "0ZADif1oE79p"
      },
      "execution_count": 22,
      "outputs": []
    },
    {
      "cell_type": "code",
      "source": [
        "df = spark.read.csv(path='/content/googleplaystore.csv', sep=\",\", header=True, escape='\"', inferSchema=True)\n"
      ],
      "metadata": {
        "id": "Jkf-vobWCs6w"
      },
      "execution_count": 23,
      "outputs": []
    },
    {
      "cell_type": "code",
      "source": [
        "df.count()"
      ],
      "metadata": {
        "id": "QUqF3MQNFDXT",
        "outputId": "328b860b-7342-4aed-8d0c-ef70b2cd995b",
        "colab": {
          "base_uri": "https://localhost:8080/"
        }
      },
      "execution_count": 24,
      "outputs": [
        {
          "output_type": "execute_result",
          "data": {
            "text/plain": [
              "10841"
            ]
          },
          "metadata": {},
          "execution_count": 24
        }
      ]
    },
    {
      "cell_type": "code",
      "source": [
        "df.show(1)"
      ],
      "metadata": {
        "id": "mzKirvw9FF9b",
        "outputId": "2de72067-cdb4-48ef-aea7-f973ba6fbcfa",
        "colab": {
          "base_uri": "https://localhost:8080/"
        }
      },
      "execution_count": 25,
      "outputs": [
        {
          "output_type": "stream",
          "name": "stdout",
          "text": [
            "+--------------------+--------------+------+-------+----+--------+----+-----+--------------+------------+---------------+-----------+------------+\n",
            "|                 App|      Category|Rating|Reviews|Size|Installs|Type|Price|Content Rating|      Genres|   Last Updated|Current Ver| Android Ver|\n",
            "+--------------------+--------------+------+-------+----+--------+----+-----+--------------+------------+---------------+-----------+------------+\n",
            "|Photo Editor & Ca...|ART_AND_DESIGN|   4.1|    159| 19M| 10,000+|Free|    0|      Everyone|Art & Design|January 7, 2018|      1.0.0|4.0.3 and up|\n",
            "+--------------------+--------------+------+-------+----+--------+----+-----+--------------+------------+---------------+-----------+------------+\n",
            "only showing top 1 row\n",
            "\n"
          ]
        }
      ]
    },
    {
      "cell_type": "markdown",
      "source": [
        "Check Schema"
      ],
      "metadata": {
        "id": "GB4HlryRFUZs"
      }
    },
    {
      "cell_type": "code",
      "source": [
        "df.printSchema()"
      ],
      "metadata": {
        "id": "76L4mXovFLxK",
        "outputId": "ad632f42-27e0-4d23-e6b6-5d6cd6a9c86d",
        "colab": {
          "base_uri": "https://localhost:8080/"
        }
      },
      "execution_count": 26,
      "outputs": [
        {
          "output_type": "stream",
          "name": "stdout",
          "text": [
            "root\n",
            " |-- App: string (nullable = true)\n",
            " |-- Category: string (nullable = true)\n",
            " |-- Rating: double (nullable = true)\n",
            " |-- Reviews: string (nullable = true)\n",
            " |-- Size: string (nullable = true)\n",
            " |-- Installs: string (nullable = true)\n",
            " |-- Type: string (nullable = true)\n",
            " |-- Price: string (nullable = true)\n",
            " |-- Content Rating: string (nullable = true)\n",
            " |-- Genres: string (nullable = true)\n",
            " |-- Last Updated: string (nullable = true)\n",
            " |-- Current Ver: string (nullable = true)\n",
            " |-- Android Ver: string (nullable = true)\n",
            "\n"
          ]
        }
      ]
    },
    {
      "cell_type": "markdown",
      "source": [
        "Data Cleaning\n"
      ],
      "metadata": {
        "id": "lvbV7i-kFtc9"
      }
    },
    {
      "cell_type": "code",
      "source": [
        "df = df.drop(\"size\",\"Content Rating\",\"Last Updated\",\"Android Ver\")"
      ],
      "metadata": {
        "id": "xyq48TQKFv-E"
      },
      "execution_count": 27,
      "outputs": []
    },
    {
      "cell_type": "code",
      "source": [
        "df.show(2)"
      ],
      "metadata": {
        "id": "tXezieoJGJLV",
        "outputId": "742fa779-5b0e-498a-cca3-dc8359f7b269",
        "colab": {
          "base_uri": "https://localhost:8080/"
        }
      },
      "execution_count": 28,
      "outputs": [
        {
          "output_type": "stream",
          "name": "stdout",
          "text": [
            "+--------------------+--------------+------+-------+--------+----+-----+--------------------+-----------+\n",
            "|                 App|      Category|Rating|Reviews|Installs|Type|Price|              Genres|Current Ver|\n",
            "+--------------------+--------------+------+-------+--------+----+-----+--------------------+-----------+\n",
            "|Photo Editor & Ca...|ART_AND_DESIGN|   4.1|    159| 10,000+|Free|    0|        Art & Design|      1.0.0|\n",
            "| Coloring book moana|ART_AND_DESIGN|   3.9|    967|500,000+|Free|    0|Art & Design;Pret...|      2.0.0|\n",
            "+--------------------+--------------+------+-------+--------+----+-----+--------------------+-----------+\n",
            "only showing top 2 rows\n",
            "\n"
          ]
        }
      ]
    },
    {
      "cell_type": "code",
      "source": [
        "df= df.drop(\"Current Ver\")"
      ],
      "metadata": {
        "id": "KxSJHHkgGL7v"
      },
      "execution_count": 29,
      "outputs": []
    },
    {
      "cell_type": "code",
      "source": [
        "df.show(2)"
      ],
      "metadata": {
        "id": "5Ri5XbByGUXk",
        "outputId": "d794bd9e-638c-4480-810d-a11884aa8aa5",
        "colab": {
          "base_uri": "https://localhost:8080/"
        }
      },
      "execution_count": 30,
      "outputs": [
        {
          "output_type": "stream",
          "name": "stdout",
          "text": [
            "+--------------------+--------------+------+-------+--------+----+-----+--------------------+\n",
            "|                 App|      Category|Rating|Reviews|Installs|Type|Price|              Genres|\n",
            "+--------------------+--------------+------+-------+--------+----+-----+--------------------+\n",
            "|Photo Editor & Ca...|ART_AND_DESIGN|   4.1|    159| 10,000+|Free|    0|        Art & Design|\n",
            "| Coloring book moana|ART_AND_DESIGN|   3.9|    967|500,000+|Free|    0|Art & Design;Pret...|\n",
            "+--------------------+--------------+------+-------+--------+----+-----+--------------------+\n",
            "only showing top 2 rows\n",
            "\n"
          ]
        }
      ]
    },
    {
      "cell_type": "code",
      "source": [
        "df.printSchema()"
      ],
      "metadata": {
        "id": "oFeGqlSgGX_L",
        "outputId": "50799a12-b51b-4d13-c507-b4c47bc30037",
        "colab": {
          "base_uri": "https://localhost:8080/"
        }
      },
      "execution_count": 31,
      "outputs": [
        {
          "output_type": "stream",
          "name": "stdout",
          "text": [
            "root\n",
            " |-- App: string (nullable = true)\n",
            " |-- Category: string (nullable = true)\n",
            " |-- Rating: double (nullable = true)\n",
            " |-- Reviews: string (nullable = true)\n",
            " |-- Installs: string (nullable = true)\n",
            " |-- Type: string (nullable = true)\n",
            " |-- Price: string (nullable = true)\n",
            " |-- Genres: string (nullable = true)\n",
            "\n"
          ]
        }
      ]
    },
    {
      "cell_type": "code",
      "source": [
        "from pyspark.sql.functions import regexp_replace,col\n",
        "\n",
        "df = df.withColumn(\"Reviews\", col(\"reviews\").cast(IntegerType()))\\\n",
        ".withColumn(\"Installs\",regexp_replace(col(\"Installs\"),\"[^0-9]\",\"\"))\\\n",
        ".withColumn(\"Installs\",col(\"Installs\").cast(IntegerType()))\\\n",
        "              .withColumn(\"Price\",regexp_replace(col(\"price\"),\"[$]\",\"\"))\\\n",
        "              .withColumn(\"Price\",col(\"Price\").cast(IntegerType()))"
      ],
      "metadata": {
        "id": "pxYcOOiQGntZ"
      },
      "execution_count": 32,
      "outputs": []
    },
    {
      "cell_type": "code",
      "source": [
        "df.show(5)"
      ],
      "metadata": {
        "id": "ZwWZurMvH2z2",
        "outputId": "0ddaff3f-63dd-4407-ee62-af26c492bed0",
        "colab": {
          "base_uri": "https://localhost:8080/"
        }
      },
      "execution_count": 33,
      "outputs": [
        {
          "output_type": "stream",
          "name": "stdout",
          "text": [
            "+--------------------+--------------+------+-------+--------+----+-----+--------------------+\n",
            "|                 App|      Category|Rating|Reviews|Installs|Type|Price|              Genres|\n",
            "+--------------------+--------------+------+-------+--------+----+-----+--------------------+\n",
            "|Photo Editor & Ca...|ART_AND_DESIGN|   4.1|    159|   10000|Free|    0|        Art & Design|\n",
            "| Coloring book moana|ART_AND_DESIGN|   3.9|    967|  500000|Free|    0|Art & Design;Pret...|\n",
            "|U Launcher Lite –...|ART_AND_DESIGN|   4.7|  87510| 5000000|Free|    0|        Art & Design|\n",
            "|Sketch - Draw & P...|ART_AND_DESIGN|   4.5| 215644|50000000|Free|    0|        Art & Design|\n",
            "|Pixel Draw - Numb...|ART_AND_DESIGN|   4.3|    967|  100000|Free|    0|Art & Design;Crea...|\n",
            "+--------------------+--------------+------+-------+--------+----+-----+--------------------+\n",
            "only showing top 5 rows\n",
            "\n"
          ]
        }
      ]
    },
    {
      "cell_type": "code",
      "source": [
        "df.createOrReplaceTempView(\"apps\")"
      ],
      "metadata": {
        "id": "Y2Bxd0VcIYgS"
      },
      "execution_count": 62,
      "outputs": []
    },
    {
      "cell_type": "code",
      "source": [
        "df1 = spark.sql(\"select * from apps\")"
      ],
      "metadata": {
        "id": "YSY4o5o1Id0a"
      },
      "execution_count": 36,
      "outputs": []
    },
    {
      "cell_type": "code",
      "source": [
        "df1.show()"
      ],
      "metadata": {
        "id": "AbFJfDPZIlou",
        "outputId": "a2a0753c-078d-44db-fe75-c229e078c2df",
        "colab": {
          "base_uri": "https://localhost:8080/"
        }
      },
      "execution_count": 38,
      "outputs": [
        {
          "output_type": "stream",
          "name": "stdout",
          "text": [
            "+--------------------+--------------+------+-------+--------+----+-----+--------------------+\n",
            "|                 App|      Category|Rating|Reviews|Installs|Type|Price|              Genres|\n",
            "+--------------------+--------------+------+-------+--------+----+-----+--------------------+\n",
            "|Photo Editor & Ca...|ART_AND_DESIGN|   4.1|    159|   10000|Free|    0|        Art & Design|\n",
            "| Coloring book moana|ART_AND_DESIGN|   3.9|    967|  500000|Free|    0|Art & Design;Pret...|\n",
            "|U Launcher Lite –...|ART_AND_DESIGN|   4.7|  87510| 5000000|Free|    0|        Art & Design|\n",
            "|Sketch - Draw & P...|ART_AND_DESIGN|   4.5| 215644|50000000|Free|    0|        Art & Design|\n",
            "|Pixel Draw - Numb...|ART_AND_DESIGN|   4.3|    967|  100000|Free|    0|Art & Design;Crea...|\n",
            "|Paper flowers ins...|ART_AND_DESIGN|   4.4|    167|   50000|Free|    0|        Art & Design|\n",
            "|Smoke Effect Phot...|ART_AND_DESIGN|   3.8|    178|   50000|Free|    0|        Art & Design|\n",
            "|    Infinite Painter|ART_AND_DESIGN|   4.1|  36815| 1000000|Free|    0|        Art & Design|\n",
            "|Garden Coloring Book|ART_AND_DESIGN|   4.4|  13791| 1000000|Free|    0|        Art & Design|\n",
            "|Kids Paint Free -...|ART_AND_DESIGN|   4.7|    121|   10000|Free|    0|Art & Design;Crea...|\n",
            "|Text on Photo - F...|ART_AND_DESIGN|   4.4|  13880| 1000000|Free|    0|        Art & Design|\n",
            "|Name Art Photo Ed...|ART_AND_DESIGN|   4.4|   8788| 1000000|Free|    0|        Art & Design|\n",
            "|Tattoo Name On My...|ART_AND_DESIGN|   4.2|  44829|10000000|Free|    0|        Art & Design|\n",
            "|Mandala Coloring ...|ART_AND_DESIGN|   4.6|   4326|  100000|Free|    0|        Art & Design|\n",
            "|3D Color Pixel by...|ART_AND_DESIGN|   4.4|   1518|  100000|Free|    0|        Art & Design|\n",
            "|Learn To Draw Kaw...|ART_AND_DESIGN|   3.2|     55|    5000|Free|    0|        Art & Design|\n",
            "|Photo Designer - ...|ART_AND_DESIGN|   4.7|   3632|  500000|Free|    0|        Art & Design|\n",
            "|350 Diy Room Deco...|ART_AND_DESIGN|   4.5|     27|   10000|Free|    0|        Art & Design|\n",
            "|FlipaClip - Carto...|ART_AND_DESIGN|   4.3| 194216| 5000000|Free|    0|        Art & Design|\n",
            "|        ibis Paint X|ART_AND_DESIGN|   4.6| 224399|10000000|Free|    0|        Art & Design|\n",
            "+--------------------+--------------+------+-------+--------+----+-----+--------------------+\n",
            "only showing top 20 rows\n",
            "\n"
          ]
        }
      ]
    },
    {
      "cell_type": "markdown",
      "source": [
        "Find out top 10 reviews given to the apps"
      ],
      "metadata": {
        "id": "PuClxZ6eJWz7"
      }
    },
    {
      "cell_type": "code",
      "source": [
        "df1 = spark.sql(\"SELECT App, SUM(Reviews) AS TotalReviews FROM apps GROUP BY App ORDER BY TotalReviews DESC\")"
      ],
      "metadata": {
        "id": "sMrZ38awJVOG"
      },
      "execution_count": 41,
      "outputs": []
    },
    {
      "cell_type": "code",
      "source": [
        "df1.show()"
      ],
      "metadata": {
        "id": "FkBmeT57KKAU",
        "outputId": "1c620e15-8888-4474-cda5-89b1493915c7",
        "colab": {
          "base_uri": "https://localhost:8080/"
        }
      },
      "execution_count": 43,
      "outputs": [
        {
          "output_type": "stream",
          "name": "stdout",
          "text": [
            "+--------------------+------------+\n",
            "|                 App|TotalReviews|\n",
            "+--------------------+------------+\n",
            "|           Instagram|   266241989|\n",
            "|  WhatsApp Messenger|   207348304|\n",
            "|      Clash of Clans|   179558781|\n",
            "|Messenger – Text ...|   169932272|\n",
            "|      Subway Surfers|   166331958|\n",
            "|    Candy Crush Saga|   156993136|\n",
            "|            Facebook|   156286514|\n",
            "|         8 Ball Pool|    99386198|\n",
            "|        Clash Royale|    92530298|\n",
            "|            Snapchat|    68045010|\n",
            "|     Viber Messenger|    56675481|\n",
            "|UC Browser - Fast...|    53140694|\n",
            "|             YouTube|    51278853|\n",
            "|        Temple Run 2|    48710930|\n",
            "|Sniper 3D Gun Sho...|    46022233|\n",
            "|      My Talking Tom|    44668928|\n",
            "|Duolingo: Learn L...|    44047832|\n",
            "|       Google Photos|    43423827|\n",
            "|Clean Master- Spa...|    42916526|\n",
            "|                 Pou|    41939801|\n",
            "+--------------------+------------+\n",
            "only showing top 20 rows\n",
            "\n"
          ]
        }
      ]
    },
    {
      "cell_type": "markdown",
      "source": [
        "Top 10 installs apps and distribution of type [free/paid]"
      ],
      "metadata": {
        "id": "gM1gi2kvKWse"
      }
    },
    {
      "cell_type": "code",
      "source": [
        "df1 = spark.sql(\"SELECT App, Type, SUM(CAST(Installs AS INT)) AS TotalInstalls FROM apps GROUP BY App, Type ORDER BY TotalInstalls DESC\")\n",
        "df1.show()\n"
      ],
      "metadata": {
        "id": "zZMViZR2JyOU",
        "outputId": "5cee04db-211e-40d5-e7cc-6acf3b16193f",
        "colab": {
          "base_uri": "https://localhost:8080/"
        }
      },
      "execution_count": 52,
      "outputs": [
        {
          "output_type": "stream",
          "name": "stdout",
          "text": [
            "+--------------------+----+-------------+\n",
            "|                 App|Type|TotalInstalls|\n",
            "+--------------------+----+-------------+\n",
            "|      Subway Surfers|Free|   6000000000|\n",
            "|           Instagram|Free|   4000000000|\n",
            "|        Google Drive|Free|   4000000000|\n",
            "|            Hangouts|Free|   4000000000|\n",
            "|       Google Photos|Free|   4000000000|\n",
            "|         Google News|Free|   4000000000|\n",
            "|    Candy Crush Saga|Free|   3500000000|\n",
            "|  WhatsApp Messenger|Free|   3000000000|\n",
            "|               Gmail|Free|   3000000000|\n",
            "|        Temple Run 2|Free|   3000000000|\n",
            "|Skype - free IM &...|Free|   3000000000|\n",
            "|Google Chrome: Fa...|Free|   3000000000|\n",
            "|Messenger – Text ...|Free|   3000000000|\n",
            "|Maps - Navigate &...|Free|   3000000000|\n",
            "|     Viber Messenger|Free|   2500000000|\n",
            "|   Google Play Games|Free|   2000000000|\n",
            "|            Facebook|Free|   2000000000|\n",
            "|            Snapchat|Free|   2000000000|\n",
            "|imo free video ca...|Free|   2000000000|\n",
            "|  Google Street View|Free|   2000000000|\n",
            "+--------------------+----+-------------+\n",
            "only showing top 20 rows\n",
            "\n"
          ]
        }
      ]
    },
    {
      "cell_type": "markdown",
      "source": [
        "Category wise distribution of installed apps"
      ],
      "metadata": {
        "id": "fSQZLG0OMa_F"
      }
    },
    {
      "cell_type": "code",
      "source": [
        "df1 = spark.sql(\"select Category, sum(Installs) from apps group by 1 order by 2 desc\")\n",
        "df1.show()\n",
        "\n"
      ],
      "metadata": {
        "id": "pmdp3mI1LRnM",
        "outputId": "280da7f1-e588-4cfc-8c81-b8cdb25538b8",
        "colab": {
          "base_uri": "https://localhost:8080/"
        }
      },
      "execution_count": 53,
      "outputs": [
        {
          "output_type": "stream",
          "name": "stdout",
          "text": [
            "+-------------------+-------------+\n",
            "|           Category|sum(Installs)|\n",
            "+-------------------+-------------+\n",
            "|               GAME|  35086024415|\n",
            "|      COMMUNICATION|  32647276251|\n",
            "|       PRODUCTIVITY|  14176091369|\n",
            "|             SOCIAL|  14069867902|\n",
            "|              TOOLS|  11452771915|\n",
            "|             FAMILY|  10258263505|\n",
            "|        PHOTOGRAPHY|  10088247655|\n",
            "| NEWS_AND_MAGAZINES|   7496317760|\n",
            "|   TRAVEL_AND_LOCAL|   6868887146|\n",
            "|      VIDEO_PLAYERS|   6222002720|\n",
            "|           SHOPPING|   3247848785|\n",
            "|      ENTERTAINMENT|   2869160000|\n",
            "|    PERSONALIZATION|   2325494782|\n",
            "|BOOKS_AND_REFERENCE|   1921469576|\n",
            "|             SPORTS|   1751174498|\n",
            "| HEALTH_AND_FITNESS|   1583072512|\n",
            "|           BUSINESS|   1001914865|\n",
            "|            FINANCE|    876648734|\n",
            "|          EDUCATION|    871452000|\n",
            "|MAPS_AND_NAVIGATION|    724281890|\n",
            "+-------------------+-------------+\n",
            "only showing top 20 rows\n",
            "\n"
          ]
        }
      ]
    },
    {
      "cell_type": "markdown",
      "source": [
        "Top free rating apps"
      ],
      "metadata": {
        "id": "nweA1vaaM6rR"
      }
    },
    {
      "cell_type": "code",
      "source": [
        "df1 = spark.sql(\"SELECT App, SUM(CASE WHEN Type = 'paid' THEN Price ELSE 0 END) AS Total_Price FROM apps GROUP BY App ORDER BY Total_Price DESC\")\n",
        "df1.show()\n",
        "\n"
      ],
      "metadata": {
        "id": "L00Iw8OzM18u",
        "outputId": "53afd22f-3938-49a1-8a08-6f1608b90d30",
        "colab": {
          "base_uri": "https://localhost:8080/"
        }
      },
      "execution_count": 68,
      "outputs": [
        {
          "output_type": "stream",
          "name": "stdout",
          "text": [
            "+--------------------+-----------+\n",
            "|                 App|Total_Price|\n",
            "+--------------------+-----------+\n",
            "|Google Chrome: Fa...|          0|\n",
            "|free video calls ...|          0|\n",
            "|Toddler Learning ...|          0|\n",
            "|             MyChart|          0|\n",
            "|Davis's Drug Guid...|          0|\n",
            "|    Diabetes Testing|          0|\n",
            "|Mercari: The Sell...|          0|\n",
            "|Find&Save - Local...|          0|\n",
            "|                SNCF|          0|\n",
            "|Learn the letters...|          0|\n",
            "|Nigeria News NAIJ...|          0|\n",
            "|    Basketball Stars|          0|\n",
            "|          C Examples|          0|\n",
            "|            Q Wunder|          0|\n",
            "|         Q-Ticketing|          0|\n",
            "|Learn R Language ...|          0|\n",
            "| Al-Quran Al-Muallim|          0|\n",
            "|THE KING OF FIGHT...|          0|\n",
            "|Ay Yıldız Analog ...|          0|\n",
            "|A-Z Punjabi Songs...|          0|\n",
            "+--------------------+-----------+\n",
            "only showing top 20 rows\n",
            "\n"
          ]
        }
      ]
    },
    {
      "cell_type": "markdown",
      "source": [],
      "metadata": {
        "id": "7ZmdpeY8A7Sm"
      }
    }
  ]
}